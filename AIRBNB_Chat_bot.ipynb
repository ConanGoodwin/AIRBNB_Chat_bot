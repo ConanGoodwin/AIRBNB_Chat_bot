{
  "nbformat": 4,
  "nbformat_minor": 0,
  "metadata": {
    "colab": {
      "provenance": [],
      "authorship_tag": "ABX9TyP1pC6SLtIPsKqXOkgZkY2i",
      "include_colab_link": true
    },
    "kernelspec": {
      "name": "python3",
      "display_name": "Python 3"
    },
    "language_info": {
      "name": "python"
    }
  },
  "cells": [
    {
      "cell_type": "markdown",
      "metadata": {
        "id": "view-in-github",
        "colab_type": "text"
      },
      "source": [
        "<a href=\"https://colab.research.google.com/github/ConanGoodwin/AIRBNB_Chat_bot/blob/main/AIRBNB_Chat_bot.ipynb\" target=\"_parent\"><img src=\"https://colab.research.google.com/assets/colab-badge.svg\" alt=\"Open In Colab\"/></a>"
      ]
    },
    {
      "cell_type": "markdown",
      "source": [
        "Primeiro bloco, de instalação de bibliotecas não default utilizadas"
      ],
      "metadata": {
        "id": "nMIkVNlJ_apZ"
      }
    },
    {
      "cell_type": "code",
      "source": [
        "!pip install -q -U google-generativeai"
      ],
      "metadata": {
        "id": "3OdXBHDGYX8s"
      },
      "execution_count": 53,
      "outputs": []
    },
    {
      "cell_type": "markdown",
      "source": [
        "Bloco de importação das bibliotecas utilizadas e definições das variaveis para utilização da Gemini"
      ],
      "metadata": {
        "id": "92aUH2Z4_2Aw"
      }
    },
    {
      "cell_type": "code",
      "source": [
        "import google.generativeai as genai\n",
        "import textwrap\n",
        "from IPython.display import display, Markdown\n",
        "from google.colab import userdata\n",
        "\n",
        "GOOGLE_API_KEY = userdata.get('SECRET_KEY')\n",
        "genai.configure(api_key=GOOGLE_API_KEY)\n",
        "\n",
        "generation_config = {\n",
        "    \"candidate_count\": 1,\n",
        "    \"temperature\": 0.4,\n",
        "}"
      ],
      "metadata": {
        "id": "a7o1Y86jcxHG"
      },
      "execution_count": 99,
      "outputs": []
    },
    {
      "cell_type": "markdown",
      "source": [
        "Definições de funções auxiliares"
      ],
      "metadata": {
        "id": "DKd3EAtfAS66"
      }
    },
    {
      "cell_type": "code",
      "source": [
        "def to_markdown(text):\n",
        "  return Markdown(textwrap.indent(text, '> ', predicate=lambda _: True))\n",
        "\n",
        "def set_filter(text):\n",
        "  if text == '1':\n",
        "    return 'BLOCK_NONE'\n",
        "  elif text == '2':\n",
        "    return 'BLOCK_ONLY_HIGH'\n",
        "  elif text == '3':\n",
        "    return 'BLOCK_MEDIUM_AND_ABOVE'\n",
        "  elif text == '4':\n",
        "    return 'BLOCK_LOW_AND_ABOVE'\n",
        "  else:\n",
        "    print(\"\\n Nivel invalido, o nivel deve ser um numero entre 1 e 4!\")\n",
        "    return None\n",
        "\n",
        "def safety_settings_level():\n",
        "  print('\\nVamos começar configurando os filtros de segurança.')\n",
        "  SEXUAL = input('Defina o nivel de filtro de conteudo sexual de 1 a 4: ')\n",
        "  SEXUAL = set_filter(SEXUAL)\n",
        "\n",
        "  while SEXUAL is None:\n",
        "    SEXUAL = input('Defina o nivel de filtro de conteudo sexual de 1 a 4: ')\n",
        "    SEXUAL = set_filter(SEXUAL)\n",
        "\n",
        "  display(to_markdown(f'Nivel escolhido: **{SEXUAL}**'))\n",
        "\n",
        "  DANGER = input('Defina o nivel de filtro de conteudo com risco de 1 a 4: ')\n",
        "  DANGER = set_filter(DANGER)\n",
        "\n",
        "  while DANGER is None:\n",
        "    DANGER = input('Defina o nivel de filtro de conteudo com risco de 1 a 4: ')\n",
        "    DANGER = set_filter(DANGER)\n",
        "\n",
        "  display(to_markdown(f'Nivel escolhido: **{DANGER}**'))"
      ],
      "metadata": {
        "id": "iWsBwBOCevsX"
      },
      "execution_count": 100,
      "outputs": []
    },
    {
      "cell_type": "markdown",
      "source": [
        "Tela inicial com opção ao usuario de definição dos niveis de segurança para conteudo sexual e de risco."
      ],
      "metadata": {
        "id": "sQktbCBGAoeC"
      }
    },
    {
      "cell_type": "code",
      "source": [
        "display(to_markdown(f'# Bem Vindo ao seu turismo AirBnb personalizado!'))\n",
        "display(to_markdown(f'### através de apenas algumas perguntas, disponibilizamos para você um roteiro personalizado baseado no seu local de estadia!'))\n",
        "display(to_markdown(f'---'))\n",
        "print(\"Pressione ENTER para continuar...\")\n",
        "input()\n",
        "\n",
        "SEXUAL = 'BLOCK_LOW_AND_ABOVE'\n",
        "DANGER = 'BLOCK_LOW_AND_ABOVE'\n",
        "\n",
        "print(f'deseja configurar o nivel de segurança do conteudo? \\033[1mpor padrão todo conteudo de risco é bloqueado.\\033[0m')\n",
        "display(to_markdown(f'Digite **S** ou **N**  '))\n",
        "is_safe = input('>>>')\n",
        "\n",
        "if is_safe.lower() == 's':\n",
        "  safety_settings_level()\n",
        "\n",
        "safety_settings = {\n",
        "    \"HARASSMENT\": \"BLOCK_LOW_AND_ABOVE\",\n",
        "    \"HATE\": \"BLOCK_LOW_AND_ABOVE\",\n",
        "    \"SEXUAL\": SEXUAL,\n",
        "    \"DANGEROUS\": DANGER,\n",
        "}"
      ],
      "metadata": {
        "colab": {
          "base_uri": "https://localhost:8080/",
          "height": 433
        },
        "id": "JUgJEpCChteB",
        "outputId": "1b339fae-d8ca-4985-c886-69710b26c113"
      },
      "execution_count": 101,
      "outputs": [
        {
          "output_type": "display_data",
          "data": {
            "text/plain": [
              "<IPython.core.display.Markdown object>"
            ],
            "text/markdown": "> # Bem Vindo ao seu turismo AirBnb personalizado!"
          },
          "metadata": {}
        },
        {
          "output_type": "display_data",
          "data": {
            "text/plain": [
              "<IPython.core.display.Markdown object>"
            ],
            "text/markdown": "> ### através de apenas algumas perguntas, disponibilizamos para você um roteiro personalizado baseado no seu local de estadia!"
          },
          "metadata": {}
        },
        {
          "output_type": "display_data",
          "data": {
            "text/plain": [
              "<IPython.core.display.Markdown object>"
            ],
            "text/markdown": "> ---"
          },
          "metadata": {}
        },
        {
          "output_type": "stream",
          "name": "stdout",
          "text": [
            "Pressione ENTER para continuar...\n",
            "\n",
            "deseja configurar o nivel de segurança do conteudo? \u001b[1mpor padrão todo conteudo de risco é bloqueado.\u001b[0m\n"
          ]
        },
        {
          "output_type": "display_data",
          "data": {
            "text/plain": [
              "<IPython.core.display.Markdown object>"
            ],
            "text/markdown": "> Digite **S** ou **N**  "
          },
          "metadata": {}
        },
        {
          "name": "stdout",
          "output_type": "stream",
          "text": [
            ">>>s\n",
            "\n",
            "Vamos começar configurando os filtros de segurança.\n",
            "Defina o nivel de filtro de conteudo sexual de 1 a 4: 3\n"
          ]
        },
        {
          "output_type": "display_data",
          "data": {
            "text/plain": [
              "<IPython.core.display.Markdown object>"
            ],
            "text/markdown": "> Nivel escolhido: **BLOCK_MEDIUM_AND_ABOVE**"
          },
          "metadata": {}
        },
        {
          "name": "stdout",
          "output_type": "stream",
          "text": [
            "Defina o nivel de filtro de conteudo com risco de 1 a 4: 3\n"
          ]
        },
        {
          "output_type": "display_data",
          "data": {
            "text/plain": [
              "<IPython.core.display.Markdown object>"
            ],
            "text/markdown": "> Nivel escolhido: **BLOCK_MEDIUM_AND_ABOVE**"
          },
          "metadata": {}
        }
      ]
    },
    {
      "cell_type": "markdown",
      "source": [
        "inicialização do modelo com as configurações setadas"
      ],
      "metadata": {
        "id": "317J0thgA9iu"
      }
    },
    {
      "cell_type": "code",
      "source": [
        "model = genai.GenerativeModel(model_name=\"gemini-1.0-pro\",safety_settings=safety_settings,generation_config=generation_config)"
      ],
      "metadata": {
        "id": "d61H-3zgjP6D"
      },
      "execution_count": 102,
      "outputs": []
    },
    {
      "cell_type": "markdown",
      "source": [
        "Definições dos dados da localidade da hospedagem, com verificação de localidades validas"
      ],
      "metadata": {
        "id": "IniYxAoiBJXl"
      }
    },
    {
      "cell_type": "code",
      "source": [
        "display(to_markdown(f'### 1.configurações de localidade'))\n",
        "display(to_markdown(f'---'))\n",
        "\n",
        "estado=input(f'Digite o nome do ESTADO onde se localiza a hospedagem: ')\n",
        "check = 's'\n",
        "response = model.generate_content(f'responda somente com sim ou não, sem explicação, se {estado} é um estado valido do Brasil')\n",
        "if response.text.lower() == 'não':\n",
        "  check = input(f'{estado} não parece ser um estado valido do Brasil, deseja continuar assim mesmo?(s/n)\\n ')\n",
        "# print(response.text)\n",
        "\n",
        "while check.lower() != 's':\n",
        "  # print(response.text)\n",
        "  estado=input(f'Digite o nome do ESTADO onde se localiza a hospedagem: ')\n",
        "  response = model.generate_content(f'responda somente com sim ou não, sem explicação, se {estado} é um estado valido do Brasil')\n",
        "  if response.text.lower() == 'não':\n",
        "    check = input(f'{estado} não parece ser um estado valido do Brasil, deseja continuar assim mesmo?(s/n)\\n ')\n",
        "  else:\n",
        "    check = 's'\n",
        "\n",
        "cidade=input(f'Digite o nome da CIDADE onde se localiza a hospedagem: ')\n",
        "response = model.generate_content(f'responda somente com sim ou não, sem explicação, se {cidade} é uma cidade valida do {estado} no Brasil')\n",
        "if response.text.lower() == 'não':\n",
        "  check = input(f'{cidade} não parece ser uma cidade valida no estado {estado} do Brasil, deseja continuar assim mesmo?(s/n)\\n ')\n",
        "# print(response.text)\n",
        "\n",
        "while check.lower() != 's':\n",
        "  # print(response.text)\n",
        "  cidade=input(f'Digite o nome da CIDADE onde se localiza a hospedagem: ')\n",
        "  response = model.generate_content(f'responda somente com sim ou não, sem explicação, se {cidade} é uma cidade valida do {estado} no Brasil')\n",
        "  if response.text.lower() == 'não':\n",
        "    check = input(f'{cidade} não parece ser uma cidade valida no estado {estado} do Brasil, deseja continuar assim mesmo?(s/n)\\n ')\n",
        "  else:\n",
        "    check = 's'\n",
        "\n",
        "bairro=input(f'Digite o nome do BAIRRO onde se localiza a hospedagem: ')\n",
        "response = model.generate_content(f'responda somente com sim ou não, sem explicação, se {bairro} é um bairro valido na {cidade} do {estado} no Brasil')\n",
        "if response.text.lower() == 'não':\n",
        "  check = input(f'{bairro} não parece ser um bairro valido na {cidade}, deseja continuar assim mesmo?(s/n)\\n ')\n",
        "# print(response.text)\n",
        "\n",
        "while check.lower() != 's':\n",
        "  # print(response.text)\n",
        "  bairro=input(f'Digite o nome do ESTADO onde se localiza a hospedagem: ')\n",
        "  response = model.generate_content(f'responda somente com sim ou não, sem explicação, se {bairro} é um bairro valido na {cidade} do {estado} no Brasil')\n",
        "  if response.text.lower() == 'não':\n",
        "    check = input(f'{bairro} não parece ser um bairro valido na cidade {cidade}, deseja continuar assim mesmo?(s/n)\\n ')\n",
        "  else:\n",
        "    check = 's'"
      ],
      "metadata": {
        "colab": {
          "base_uri": "https://localhost:8080/",
          "height": 171
        },
        "id": "ZMrAkCylwK7H",
        "outputId": "a57fe93b-e15d-4742-a1ea-365c66063278"
      },
      "execution_count": 104,
      "outputs": [
        {
          "output_type": "display_data",
          "data": {
            "text/plain": [
              "<IPython.core.display.Markdown object>"
            ],
            "text/markdown": "> ### 1.configurações de localidade"
          },
          "metadata": {}
        },
        {
          "output_type": "display_data",
          "data": {
            "text/plain": [
              "<IPython.core.display.Markdown object>"
            ],
            "text/markdown": "> ---"
          },
          "metadata": {}
        },
        {
          "name": "stdout",
          "output_type": "stream",
          "text": [
            "Digite o nome do ESTADO onde se localiza a hospedagem: rio de janeiro\n",
            "rio de janeiro não parece ser um estado valido do Brasil, deseja continuar assim mesmo?(s/n)\n",
            " s\n",
            "Digite o nome da CIDADE onde se localiza a hospedagem: rio de janeiro\n",
            "Digite o nome do BAIRRO onde se localiza a hospedagem: paqueta\n"
          ]
        }
      ]
    },
    {
      "cell_type": "markdown",
      "source": [
        "Definições das preferencias de lazer do usuario"
      ],
      "metadata": {
        "id": "3VxhR8jkBYfb"
      }
    },
    {
      "cell_type": "code",
      "source": [
        "display(to_markdown(f'### 2.configurações de preferencias de turismo'))\n",
        "display(to_markdown(f'---'))\n",
        "\n",
        "lista_lazer = []\n",
        "type_lazer = ''\n",
        "\n",
        "while type_lazer != 'sem':\n",
        "  type_lazer=input(f'Digite uma nova categoria de lazer de interesse ou \"fim\" para encerrar\\n(exs.: Cultura, Esportes, Aventura, Gastronômico, sol e praia, Ecológico, Religioso): ')\n",
        "  check = 's'\n",
        "  response = model.generate_content(f'exemplos de atividades de turismo validas: Cultura, Esportes, Aventura, Gastronômico, sol e praia, Ecológico, Religioso. responda somente com sim ou não, sem explicação, se {type_lazer} é uma atividade de turismo valida')\n",
        "\n",
        "  if response.parts == []:\n",
        "    display(to_markdown('**OPÇÃO INVALIDA DE ACORDO COM OS FILTROS DE SEGURAÇA**'))\n",
        "  else:\n",
        "    if response.text.lower() == 'não':\n",
        "      check = input(f'{type_lazer} não parece ser uma atividade de turismo valida, deseja continuar assim mesmo?(s/n)\\n ')\n",
        "\n",
        "  while check.lower() != 's':\n",
        "    type_lazer=input(f'Digite uma outra categoria de lazer de interesse\\n(exs.: Cultura, Esportes, Aventura, Gastronômico, sol e praia, Ecológico, Religioso): ')\n",
        "    response = model.generate_content(f'responda somente com sim ou não, sem explicação, se {type_lazer} é uma atividade de turismo valida')\n",
        "    if response.parts == []:\n",
        "      display(to_markdown('**OPÇÃO INVALIDA DE ACORDO COM OS FILTROS DE SEGURAÇA**'))\n",
        "      check = 's'\n",
        "    else:\n",
        "      if response.text.lower() == 'não':\n",
        "        check = input(f'{type_lazer} não parece ser uma atividade de turismo valida, deseja continuar assim mesmo?(s/n)\\n ')\n",
        "      else:\n",
        "        check = 's'\n",
        "\n",
        "  if type_lazer.lower() == 'fim':\n",
        "    type_lazer = 'sem'\n",
        "  elif response.parts != []:\n",
        "    lista_lazer.append(type_lazer)\n",
        "\n",
        "print(lista_lazer)"
      ],
      "metadata": {
        "colab": {
          "base_uri": "https://localhost:8080/",
          "height": 240
        },
        "id": "wTAldkRaXDNd",
        "outputId": "e1dcb7a0-e591-49ad-d7f2-9d5fbc05093f"
      },
      "execution_count": 105,
      "outputs": [
        {
          "output_type": "display_data",
          "data": {
            "text/plain": [
              "<IPython.core.display.Markdown object>"
            ],
            "text/markdown": "> ### 2.configurações de preferencias de turismo"
          },
          "metadata": {}
        },
        {
          "output_type": "display_data",
          "data": {
            "text/plain": [
              "<IPython.core.display.Markdown object>"
            ],
            "text/markdown": "> ---"
          },
          "metadata": {}
        },
        {
          "output_type": "stream",
          "name": "stdout",
          "text": [
            "Digite uma nova categoria de lazer de interesse ou \"fim\" para encerrar\n",
            "(exs.: Cultura, Esportes, Aventura, Gastronômico, sol e praia, Ecológico, Religioso): Cultura\n",
            "Digite uma nova categoria de lazer de interesse ou \"fim\" para encerrar\n",
            "(exs.: Cultura, Esportes, Aventura, Gastronômico, sol e praia, Ecológico, Religioso): sol e praia\n",
            "Digite uma nova categoria de lazer de interesse ou \"fim\" para encerrar\n",
            "(exs.: Cultura, Esportes, Aventura, Gastronômico, sol e praia, Ecológico, Religioso): gastronomico\n",
            "Digite uma nova categoria de lazer de interesse ou \"fim\" para encerrar\n",
            "(exs.: Cultura, Esportes, Aventura, Gastronômico, sol e praia, Ecológico, Religioso): fim\n",
            "['Cultura', 'sol e praia', 'gastronomico']\n"
          ]
        }
      ]
    },
    {
      "cell_type": "markdown",
      "source": [
        "Exibição de dicas/roteiros de acordo com as escolhas dos usuarios"
      ],
      "metadata": {
        "id": "CGmDZ248Bjxo"
      }
    },
    {
      "cell_type": "code",
      "source": [
        "display(to_markdown(f'### 3.Roteiro, dicas e sugestões'))\n",
        "display(to_markdown(f'---'))\n",
        "type_roteiro = ''\n",
        "\n",
        "chat = model.start_chat(history=[])\n",
        "\n",
        "while type_roteiro != '3':\n",
        "  display(to_markdown(\"\"\"\n",
        "\n",
        "  #### <ins>Lista de opções de tipos para a sugestões de turismo</ins>\n",
        "  1. Dicas e sugestões livres.\n",
        "  2. Roteiro baseado na quantidade de dias hospedados.\n",
        "  3. Finalizar aplicação\n",
        "\n",
        "  OBS.: As sugestões geradas se baseam em analise feita inteiramente por IA, confirme veracidade das sugestões com o host de sua hospedagem ou pessoas locais capacitadas para tal.\n",
        "  \"\"\"))\n",
        "  type_roteiro = input(f'\\n Digite o numero da opção para qual tipo de formato de sugestão turistica você deseja: ')\n",
        "\n",
        "  while type_roteiro != '1' and type_roteiro !='2' and type_roteiro !='3':\n",
        "    display(to_markdown('#### Opção inválida, digite 1 ou 2.'))\n",
        "    type_roteiro = input(f'Digite o numero da opção para qual tipo de formato de sugestão turistica você deseja: ')\n",
        "\n",
        "  if type_roteiro == '3':\n",
        "    display(to_markdown('---'))\n",
        "    display(to_markdown('---'))\n",
        "    display(to_markdown('## FIM DA APLICAÇÃO'))\n",
        "  else:\n",
        "\n",
        "    if type_roteiro == '1':\n",
        "      response = chat.send_message(f'de sugestões, indepedente de dias a serem realizadas, de atividades turisticas, no bairro de {bairro}, na cidade {cidade}, no estado {estado} no Brasil, baseado na seguinte lista de preferencias de atividades turisticas: {lista_lazer}')\n",
        "    elif type_roteiro == '2':\n",
        "      qtDias = input('Digite a quantidade de dias que pretende ficar hospedado: ')\n",
        "      response = chat.send_message(f'faça um roteiro turistico, como se fosse um guia turistico, separado em {qtDias} dias, no bairro {bairro}, na cidade {cidade}, no estado {estado} no Brasil, baseado na seguinte lista de preferencias de atividades turisticas: {lista_lazer}')\n",
        "\n",
        "    prompt = ''\n",
        "    while prompt.lower() != \"fim\":\n",
        "      print('____________________________________________________________________')\n",
        "      display(to_markdown(f'**Resposta** >>> \\n {response.text} \\n'))\n",
        "      print(f'Didite \"fim\" caso queira encerrar esta opção ou use o prompt para alguma duvida.')\n",
        "      prompt = input('Digite um prompt: ')\n",
        "      if prompt != 'fim':\n",
        "        response = chat.send_message(prompt)\n",
        "\n",
        "    print(f'\\nSugestões finalizadas!')"
      ],
      "metadata": {
        "colab": {
          "base_uri": "https://localhost:8080/",
          "height": 1000
        },
        "id": "HG_WSwewewr4",
        "outputId": "0977da4c-4dcc-487a-cb84-09ec135e711c"
      },
      "execution_count": 106,
      "outputs": [
        {
          "output_type": "display_data",
          "data": {
            "text/plain": [
              "<IPython.core.display.Markdown object>"
            ],
            "text/markdown": "> ### 3.Roteiro, dicas e sugestões"
          },
          "metadata": {}
        },
        {
          "output_type": "display_data",
          "data": {
            "text/plain": [
              "<IPython.core.display.Markdown object>"
            ],
            "text/markdown": "> ---"
          },
          "metadata": {}
        },
        {
          "output_type": "display_data",
          "data": {
            "text/plain": [
              "<IPython.core.display.Markdown object>"
            ],
            "text/markdown": "> \n> \n>   #### <ins>Lista de opções de tipos para a sugestões de turismo</ins>\n>   1. Dicas e sugestões livres.\n>   2. Roteiro baseado na quantidade de dias hospedados.\n>   3. Finalizar aplicação\n> \n>   OBS.: As sugestões geradas se baseam em analise feita inteiramente por IA, confirme veracidade das sugestões com o host de sua hospedagem ou pessoas locais capacitadas para tal.\n>   "
          },
          "metadata": {}
        },
        {
          "output_type": "stream",
          "name": "stdout",
          "text": [
            "\n",
            " Digite o numero da opção para qual tipo de formato de sugestão turistica você deseja: 1\n",
            "____________________________________________________________________\n"
          ]
        },
        {
          "output_type": "display_data",
          "data": {
            "text/plain": [
              "<IPython.core.display.Markdown object>"
            ],
            "text/markdown": "> **Resposta** >>> \n>  **Cultura:**\n> \n> * **Visitar o Museu Histórico de Paquetá:** Aprenda sobre a história e a cultura da ilha, incluindo sua importância como destino de veraneio no século XIX.\n> * **Explorar a Igreja de São Roque:** Admire a arquitetura colonial desta igreja histórica, construída em 1740.\n> * **Assistir a um espetáculo no Teatro Municipal de Paquetá:** Desfrute de apresentações de música, dança e teatro neste charmoso teatro.\n> \n> **Sol e Praia:**\n> \n> * **Relaxar na Praia da Moreninha:** Desfrute das águas calmas e da areia branca desta praia popular.\n> * **Passear pela Praia da Guarda:** Explore esta praia tranquila e aproveite as vistas da Baía de Guanabara.\n> * **Fazer um passeio de barco pela Baía de Guanabara:** Admire a beleza da ilha e da baía a partir da água.\n> \n> **Gastronômico:**\n> \n> * **Experimentar a culinária local no Restaurante Paquetá:** Saboreie pratos tradicionais como peixe assado, moqueca e feijoada.\n> * **Visitar a Feira de Artesanato e Gastronomia:** Explore barracas que oferecem produtos artesanais e iguarias locais.\n> * **Fazer um passeio gastronômico:** Conheça os melhores restaurantes e bares da ilha, experimentando diferentes sabores e especialidades. \n"
          },
          "metadata": {}
        },
        {
          "output_type": "stream",
          "name": "stdout",
          "text": [
            "Didite \"fim\" caso queira encerrar esta opção ou use o prompt para alguma duvida.\n",
            "Digite um prompt: como é a moreninha?\n",
            "____________________________________________________________________\n"
          ]
        },
        {
          "output_type": "display_data",
          "data": {
            "text/plain": [
              "<IPython.core.display.Markdown object>"
            ],
            "text/markdown": "> **Resposta** >>> \n>  **Praia da Moreninha**\n> \n> A Praia da Moreninha é uma praia popular localizada na Ilha de Paquetá, no Rio de Janeiro. É conhecida por suas águas calmas, areia branca e atmosfera tranquila.\n> \n> **Características:**\n> \n> * **Águas calmas:** A praia é protegida por uma barreira de recifes, o que cria águas calmas e seguras para nadar, especialmente para crianças.\n> * **Areia branca:** A praia possui uma faixa de areia branca e fofa, perfeita para relaxar e tomar sol.\n> * **Ondas suaves:** As ondas na Praia da Moreninha são geralmente suaves, tornando-a ideal para atividades como stand-up paddle e caiaque.\n> * **Vista panorâmica:** A praia oferece vistas deslumbrantes da Baía de Guanabara e do Pão de Açúcar.\n> * **Infraestrutura:** A praia conta com alguns quiosques que oferecem bebidas, lanches e aluguel de cadeiras e guarda-sóis.\n> \n> **Ambiente:**\n> \n> A Praia da Moreninha tem uma atmosfera tranquila e familiar. É um ótimo lugar para relaxar, nadar e aproveitar o sol. A praia também é popular entre os moradores locais, que costumam visitá-la nos fins de semana e feriados.\n> \n> **Como chegar:**\n> \n> Para chegar à Praia da Moreninha, você pode pegar uma barca na Praça XV, no Rio de Janeiro, e desembarcar na Ilha de Paquetá. Da balsa, você pode caminhar ou pegar um táxi até a praia. \n"
          },
          "metadata": {}
        },
        {
          "output_type": "stream",
          "name": "stdout",
          "text": [
            "Didite \"fim\" caso queira encerrar esta opção ou use o prompt para alguma duvida.\n",
            "Digite um prompt: fim\n",
            "\n",
            "Sugestões finalizadas!\n"
          ]
        },
        {
          "output_type": "display_data",
          "data": {
            "text/plain": [
              "<IPython.core.display.Markdown object>"
            ],
            "text/markdown": "> \n> \n>   #### <ins>Lista de opções de tipos para a sugestões de turismo</ins>\n>   1. Dicas e sugestões livres.\n>   2. Roteiro baseado na quantidade de dias hospedados.\n>   3. Finalizar aplicação\n> \n>   OBS.: As sugestões geradas se baseam em analise feita inteiramente por IA, confirme veracidade das sugestões com o host de sua hospedagem ou pessoas locais capacitadas para tal.\n>   "
          },
          "metadata": {}
        },
        {
          "output_type": "stream",
          "name": "stdout",
          "text": [
            "\n",
            " Digite o numero da opção para qual tipo de formato de sugestão turistica você deseja: 2\n",
            "Digite a quantidade de dias que pretende ficar hospedado: 5\n",
            "____________________________________________________________________\n"
          ]
        },
        {
          "output_type": "display_data",
          "data": {
            "text/plain": [
              "<IPython.core.display.Markdown object>"
            ],
            "text/markdown": "> **Resposta** >>> \n>  **Roteiro Turístico de 5 Dias em Paquetá**\n> \n> **Dia 1**\n> \n> * **Manhã:** Visite o Museu Histórico de Paquetá para aprender sobre a história e a cultura da ilha.\n> * **Tarde:** Relaxe na Praia da Moreninha, aproveitando as águas calmas e a areia branca.\n> * **Noite:** Jante no Restaurante Paquetá para experimentar a culinária local, como peixe assado e moqueca.\n> \n> **Dia 2**\n> \n> * **Manhã:** Explore a Igreja de São Roque, admirando sua arquitetura colonial.\n> * **Tarde:** Faça um passeio de barco pela Baía de Guanabara para apreciar a beleza da ilha e da baía.\n> * **Noite:** Assista a um espetáculo no Teatro Municipal de Paquetá, desfrutando de apresentações de música, dança ou teatro.\n> \n> **Dia 3**\n> \n> * **Manhã:** Visite a Feira de Artesanato e Gastronomia para explorar barracas que oferecem produtos artesanais e iguarias locais.\n> * **Tarde:** Faça um passeio gastronômico, conhecendo os melhores restaurantes e bares da ilha e experimentando diferentes sabores e especialidades.\n> * **Noite:** Relaxe em um dos bares da orla, apreciando a vista da Baía de Guanabara.\n> \n> **Dia 4**\n> \n> * **Manhã:** Caminhe até a Praia da Guarda, uma praia tranquila com vistas deslumbrantes da Baía de Guanabara.\n> * **Tarde:** Alugue um caiaque ou stand-up paddle e explore a baía a partir da água.\n> * **Noite:** Experimente a culinária internacional em um dos restaurantes da ilha, oferecendo opções como comida italiana, japonesa e tailandesa.\n> \n> **Dia 5**\n> \n> * **Manhã:** Faça uma visita guiada à Ilha de Paquetá, aprendendo sobre sua história, arquitetura e cultura.\n> * **Tarde:** Aproveite o sol e a areia na Praia da Moreninha pela última vez.\n> * **Noite:** Desfrute de um jantar de despedida em um dos restaurantes da orla, saboreando a culinária local e as vistas deslumbrantes da Baía de Guanabara. \n"
          },
          "metadata": {}
        },
        {
          "output_type": "stream",
          "name": "stdout",
          "text": [
            "Didite \"fim\" caso queira encerrar esta opção ou use o prompt para alguma duvida.\n",
            "Digite um prompt: fim\n",
            "\n",
            "Sugestões finalizadas!\n"
          ]
        },
        {
          "output_type": "display_data",
          "data": {
            "text/plain": [
              "<IPython.core.display.Markdown object>"
            ],
            "text/markdown": "> \n> \n>   #### <ins>Lista de opções de tipos para a sugestões de turismo</ins>\n>   1. Dicas e sugestões livres.\n>   2. Roteiro baseado na quantidade de dias hospedados.\n>   3. Finalizar aplicação\n> \n>   OBS.: As sugestões geradas se baseam em analise feita inteiramente por IA, confirme veracidade das sugestões com o host de sua hospedagem ou pessoas locais capacitadas para tal.\n>   "
          },
          "metadata": {}
        },
        {
          "name": "stdout",
          "output_type": "stream",
          "text": [
            "\n",
            " Digite o numero da opção para qual tipo de formato de sugestão turistica você deseja: 3\n"
          ]
        },
        {
          "output_type": "display_data",
          "data": {
            "text/plain": [
              "<IPython.core.display.Markdown object>"
            ],
            "text/markdown": "> ---"
          },
          "metadata": {}
        },
        {
          "output_type": "display_data",
          "data": {
            "text/plain": [
              "<IPython.core.display.Markdown object>"
            ],
            "text/markdown": "> ---"
          },
          "metadata": {}
        },
        {
          "output_type": "display_data",
          "data": {
            "text/plain": [
              "<IPython.core.display.Markdown object>"
            ],
            "text/markdown": "> ## FIM DA APLICAÇÃO"
          },
          "metadata": {}
        }
      ]
    },
    {
      "cell_type": "markdown",
      "source": [
        "Exibe o historico de solicitações com a finalização da apçicação"
      ],
      "metadata": {
        "id": "VM7xcdh6BvJV"
      }
    },
    {
      "cell_type": "code",
      "source": [
        "for message in chat.history:\n",
        "  display(to_markdown(f'**{message.role}**: {message.parts[0].text}'))\n",
        "  print('------------------------------------------------------------')"
      ],
      "metadata": {
        "colab": {
          "base_uri": "https://localhost:8080/",
          "height": 1000
        },
        "id": "DytpCXjhqJIK",
        "outputId": "1404e59b-493e-42ef-81f7-08885c4e51a8"
      },
      "execution_count": 107,
      "outputs": [
        {
          "output_type": "display_data",
          "data": {
            "text/plain": [
              "<IPython.core.display.Markdown object>"
            ],
            "text/markdown": "> **user**: de sugestões, indepedente de dias a serem realizadas, de atividades turisticas, no bairro de paqueta, na cidade rio de janeiro, no estado rio de janeiro no Brasil, baseado na seguinte lista de preferencias de atividades turisticas: ['Cultura', 'sol e praia', 'gastronomico']"
          },
          "metadata": {}
        },
        {
          "output_type": "stream",
          "name": "stdout",
          "text": [
            "------------------------------------------------------------\n"
          ]
        },
        {
          "output_type": "display_data",
          "data": {
            "text/plain": [
              "<IPython.core.display.Markdown object>"
            ],
            "text/markdown": "> **model**: **Cultura:**\n> \n> * **Visitar o Museu Histórico de Paquetá:** Aprenda sobre a história e a cultura da ilha, incluindo sua importância como destino de veraneio no século XIX.\n> * **Explorar a Igreja de São Roque:** Admire a arquitetura colonial desta igreja histórica, construída em 1740.\n> * **Assistir a um espetáculo no Teatro Municipal de Paquetá:** Desfrute de apresentações de música, dança e teatro neste charmoso teatro.\n> \n> **Sol e Praia:**\n> \n> * **Relaxar na Praia da Moreninha:** Desfrute das águas calmas e da areia branca desta praia popular.\n> * **Passear pela Praia da Guarda:** Explore esta praia tranquila e aproveite as vistas da Baía de Guanabara.\n> * **Fazer um passeio de barco pela Baía de Guanabara:** Admire a beleza da ilha e da baía a partir da água.\n> \n> **Gastronômico:**\n> \n> * **Experimentar a culinária local no Restaurante Paquetá:** Saboreie pratos tradicionais como peixe assado, moqueca e feijoada.\n> * **Visitar a Feira de Artesanato e Gastronomia:** Explore barracas que oferecem produtos artesanais e iguarias locais.\n> * **Fazer um passeio gastronômico:** Conheça os melhores restaurantes e bares da ilha, experimentando diferentes sabores e especialidades."
          },
          "metadata": {}
        },
        {
          "output_type": "stream",
          "name": "stdout",
          "text": [
            "------------------------------------------------------------\n"
          ]
        },
        {
          "output_type": "display_data",
          "data": {
            "text/plain": [
              "<IPython.core.display.Markdown object>"
            ],
            "text/markdown": "> **user**: como é a moreninha?"
          },
          "metadata": {}
        },
        {
          "output_type": "stream",
          "name": "stdout",
          "text": [
            "------------------------------------------------------------\n"
          ]
        },
        {
          "output_type": "display_data",
          "data": {
            "text/plain": [
              "<IPython.core.display.Markdown object>"
            ],
            "text/markdown": "> **model**: **Praia da Moreninha**\n> \n> A Praia da Moreninha é uma praia popular localizada na Ilha de Paquetá, no Rio de Janeiro. É conhecida por suas águas calmas, areia branca e atmosfera tranquila.\n> \n> **Características:**\n> \n> * **Águas calmas:** A praia é protegida por uma barreira de recifes, o que cria águas calmas e seguras para nadar, especialmente para crianças.\n> * **Areia branca:** A praia possui uma faixa de areia branca e fofa, perfeita para relaxar e tomar sol.\n> * **Ondas suaves:** As ondas na Praia da Moreninha são geralmente suaves, tornando-a ideal para atividades como stand-up paddle e caiaque.\n> * **Vista panorâmica:** A praia oferece vistas deslumbrantes da Baía de Guanabara e do Pão de Açúcar.\n> * **Infraestrutura:** A praia conta com alguns quiosques que oferecem bebidas, lanches e aluguel de cadeiras e guarda-sóis.\n> \n> **Ambiente:**\n> \n> A Praia da Moreninha tem uma atmosfera tranquila e familiar. É um ótimo lugar para relaxar, nadar e aproveitar o sol. A praia também é popular entre os moradores locais, que costumam visitá-la nos fins de semana e feriados.\n> \n> **Como chegar:**\n> \n> Para chegar à Praia da Moreninha, você pode pegar uma barca na Praça XV, no Rio de Janeiro, e desembarcar na Ilha de Paquetá. Da balsa, você pode caminhar ou pegar um táxi até a praia."
          },
          "metadata": {}
        },
        {
          "output_type": "stream",
          "name": "stdout",
          "text": [
            "------------------------------------------------------------\n"
          ]
        },
        {
          "output_type": "display_data",
          "data": {
            "text/plain": [
              "<IPython.core.display.Markdown object>"
            ],
            "text/markdown": "> **user**: faça um roteiro turistico, como se fosse um guia turistico, separado em 5 dias, no bairro paqueta, na cidade rio de janeiro, no estado rio de janeiro no Brasil, baseado na seguinte lista de preferencias de atividades turisticas: ['Cultura', 'sol e praia', 'gastronomico']"
          },
          "metadata": {}
        },
        {
          "output_type": "stream",
          "name": "stdout",
          "text": [
            "------------------------------------------------------------\n"
          ]
        },
        {
          "output_type": "display_data",
          "data": {
            "text/plain": [
              "<IPython.core.display.Markdown object>"
            ],
            "text/markdown": "> **model**: **Roteiro Turístico de 5 Dias em Paquetá**\n> \n> **Dia 1**\n> \n> * **Manhã:** Visite o Museu Histórico de Paquetá para aprender sobre a história e a cultura da ilha.\n> * **Tarde:** Relaxe na Praia da Moreninha, aproveitando as águas calmas e a areia branca.\n> * **Noite:** Jante no Restaurante Paquetá para experimentar a culinária local, como peixe assado e moqueca.\n> \n> **Dia 2**\n> \n> * **Manhã:** Explore a Igreja de São Roque, admirando sua arquitetura colonial.\n> * **Tarde:** Faça um passeio de barco pela Baía de Guanabara para apreciar a beleza da ilha e da baía.\n> * **Noite:** Assista a um espetáculo no Teatro Municipal de Paquetá, desfrutando de apresentações de música, dança ou teatro.\n> \n> **Dia 3**\n> \n> * **Manhã:** Visite a Feira de Artesanato e Gastronomia para explorar barracas que oferecem produtos artesanais e iguarias locais.\n> * **Tarde:** Faça um passeio gastronômico, conhecendo os melhores restaurantes e bares da ilha e experimentando diferentes sabores e especialidades.\n> * **Noite:** Relaxe em um dos bares da orla, apreciando a vista da Baía de Guanabara.\n> \n> **Dia 4**\n> \n> * **Manhã:** Caminhe até a Praia da Guarda, uma praia tranquila com vistas deslumbrantes da Baía de Guanabara.\n> * **Tarde:** Alugue um caiaque ou stand-up paddle e explore a baía a partir da água.\n> * **Noite:** Experimente a culinária internacional em um dos restaurantes da ilha, oferecendo opções como comida italiana, japonesa e tailandesa.\n> \n> **Dia 5**\n> \n> * **Manhã:** Faça uma visita guiada à Ilha de Paquetá, aprendendo sobre sua história, arquitetura e cultura.\n> * **Tarde:** Aproveite o sol e a areia na Praia da Moreninha pela última vez.\n> * **Noite:** Desfrute de um jantar de despedida em um dos restaurantes da orla, saboreando a culinária local e as vistas deslumbrantes da Baía de Guanabara."
          },
          "metadata": {}
        },
        {
          "output_type": "stream",
          "name": "stdout",
          "text": [
            "------------------------------------------------------------\n"
          ]
        }
      ]
    }
  ]
}